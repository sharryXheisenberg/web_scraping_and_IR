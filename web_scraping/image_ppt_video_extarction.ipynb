{
 "cells": [
  {
   "cell_type": "code",
   "execution_count": 2,
   "id": "4c309075",
   "metadata": {},
   "outputs": [],
   "source": [
    "from bs4 import BeautifulSoup\n",
    "import requests\n",
    "import json"
   ]
  },
  {
   "cell_type": "markdown",
   "id": "54b0e81b",
   "metadata": {},
   "source": [
    "# Get page content from URL"
   ]
  },
  {
   "cell_type": "code",
   "execution_count": 3,
   "id": "6e85ea90",
   "metadata": {},
   "outputs": [],
   "source": [
    "url= \"https://www.thehindu.com/entertainment/movies/batman-makes-history-as-first-superhero-with-a-star-on-the-hollywood-walk-of-fame/article68689368.ece\""
   ]
  },
  {
   "cell_type": "code",
   "execution_count": 4,
   "id": "11b39354",
   "metadata": {},
   "outputs": [],
   "source": [
    "page = requests.get(url)\n"
   ]
  },
  {
   "cell_type": "code",
   "execution_count": 5,
   "id": "66987b00",
   "metadata": {},
   "outputs": [
    {
     "data": {
      "text/plain": [
       "<Response [200]>"
      ]
     },
     "execution_count": 5,
     "metadata": {},
     "output_type": "execute_result"
    }
   ],
   "source": [
    "page"
   ]
  },
  {
   "cell_type": "code",
   "execution_count": 6,
   "id": "8e5c1917",
   "metadata": {},
   "outputs": [],
   "source": [
    "#soup object\n",
    "\n",
    "soup = BeautifulSoup(page.content , 'html.parser')\n"
   ]
  },
  {
   "cell_type": "code",
   "execution_count": 7,
   "id": "91b5d4ab",
   "metadata": {},
   "outputs": [
    {
     "data": {
      "text/plain": [
       "<source media=\"(min-width: 1600px)\" sizes=\"960px\" srcset=\"https://th-i.thgim.com/public/incoming/t02g37/article68689360.ece/alternates/LANDSCAPE_1200/Batman_Hollywood_Walk_of_Fame_Ceremony_30442.jpg\"/>"
      ]
     },
     "execution_count": 7,
     "metadata": {},
     "output_type": "execute_result"
    }
   ],
   "source": [
    "img_tag = soup.find('source')\n",
    "img_tag"
   ]
  },
  {
   "cell_type": "code",
   "execution_count": 8,
   "id": "bcf4e3d1",
   "metadata": {},
   "outputs": [
    {
     "data": {
      "text/plain": [
       "'https://th-i.thgim.com/public/incoming/t02g37/article68689360.ece/alternates/LANDSCAPE_1200/Batman_Hollywood_Walk_of_Fame_Ceremony_30442.jpg'"
      ]
     },
     "execution_count": 8,
     "metadata": {},
     "output_type": "execute_result"
    }
   ],
   "source": [
    "img_tag['srcset']"
   ]
  },
  {
   "cell_type": "code",
   "execution_count": 9,
   "id": "b39c7436",
   "metadata": {},
   "outputs": [],
   "source": [
    "img_url = img_tag['srcset']"
   ]
  },
  {
   "cell_type": "markdown",
   "id": "d56728dc",
   "metadata": {},
   "source": [
    "# Download the image from URL"
   ]
  },
  {
   "cell_type": "code",
   "execution_count": 10,
   "id": "8f3c495e",
   "metadata": {},
   "outputs": [],
   "source": [
    "image = requests.get(img_url)"
   ]
  },
  {
   "cell_type": "code",
   "execution_count": 11,
   "id": "e628aab0",
   "metadata": {},
   "outputs": [],
   "source": [
    "with open('image.jpg' , 'wb') as file:\n",
    "    for chunk in image.iter_content(chunk_size=1024):\n",
    "        file.write(chunk)"
   ]
  },
  {
   "cell_type": "markdown",
   "id": "95ca696e",
   "metadata": {},
   "source": [
    "# Download PPT from URL"
   ]
  },
  {
   "cell_type": "code",
   "execution_count": 12,
   "id": "c71b92ca",
   "metadata": {},
   "outputs": [],
   "source": [
    "ppt = requests.get('http://www.howtowebscrape.com/examples/images/SampleSlides.pptx')"
   ]
  },
  {
   "cell_type": "code",
   "execution_count": 14,
   "id": "5edb3c20",
   "metadata": {},
   "outputs": [],
   "source": [
    "with open('sample.pptx' , 'wb') as file:\n",
    "    for chunk in ppt.iter_content(chunk_size=1024):\n",
    "        file.write(chunk)"
   ]
  },
  {
   "cell_type": "markdown",
   "id": "ce255f2b",
   "metadata": {},
   "source": [
    "# Download video from URL"
   ]
  },
  {
   "cell_type": "code",
   "execution_count": 18,
   "id": "ee51dbaf",
   "metadata": {},
   "outputs": [],
   "source": [
    "video = requests.get('http://commondatastorage.googleapis.com/gtv-videos-bucket/sample/BigBuckBunny.mp4')\n"
   ]
  },
  {
   "cell_type": "code",
   "execution_count": 21,
   "id": "240dd877",
   "metadata": {},
   "outputs": [],
   "source": [
    "with open('vid_1.mp4' , 'wb') as file:\n",
    "    for chunk in video.iter_content(chunk_size=1024):\n",
    "        file.write(chunk)"
   ]
  },
  {
   "cell_type": "code",
   "execution_count": null,
   "id": "cf4a3370",
   "metadata": {},
   "outputs": [],
   "source": []
  }
 ],
 "metadata": {
  "kernelspec": {
   "display_name": "Python 3 (ipykernel)",
   "language": "python",
   "name": "python3"
  },
  "language_info": {
   "codemirror_mode": {
    "name": "ipython",
    "version": 3
   },
   "file_extension": ".py",
   "mimetype": "text/x-python",
   "name": "python",
   "nbconvert_exporter": "python",
   "pygments_lexer": "ipython3",
   "version": "3.9.12"
  }
 },
 "nbformat": 4,
 "nbformat_minor": 5
}
