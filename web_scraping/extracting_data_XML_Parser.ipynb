{
 "cells": [
  {
   "cell_type": "code",
   "execution_count": 3,
   "id": "d5c6bde4",
   "metadata": {},
   "outputs": [],
   "source": [
    "from bs4 import BeautifulSoup\n",
    "import requests"
   ]
  },
  {
   "cell_type": "markdown",
   "id": "be6fcc6d",
   "metadata": {},
   "source": [
    "# Get data from URL"
   ]
  },
  {
   "cell_type": "code",
   "execution_count": 4,
   "id": "4ebcd887",
   "metadata": {},
   "outputs": [],
   "source": [
    "url = \"https://www.w3schools.com/xml/note.xml\""
   ]
  },
  {
   "cell_type": "code",
   "execution_count": 5,
   "id": "371cb9f3",
   "metadata": {},
   "outputs": [],
   "source": [
    "#get url \n",
    "xml = requests.get(url)"
   ]
  },
  {
   "cell_type": "code",
   "execution_count": 6,
   "id": "e345baba",
   "metadata": {},
   "outputs": [
    {
     "data": {
      "text/plain": [
       "b'<?xml version=\"1.0\" encoding=\"UTF-8\"?>\\n<note>\\n  <to>Tove</to>\\n  <from>Jani</from>\\n  <heading>Reminder</heading>\\n  <body>Don\\'t forget me this weekend!</body>\\n</note>'"
      ]
     },
     "execution_count": 6,
     "metadata": {},
     "output_type": "execute_result"
    }
   ],
   "source": [
    "xml.content"
   ]
  },
  {
   "cell_type": "code",
   "execution_count": 7,
   "id": "239bfcae",
   "metadata": {},
   "outputs": [
    {
     "name": "stdout",
     "output_type": "stream",
     "text": [
      "<?xml version=\"1.0\" encoding=\"utf-8\"?>\n",
      "<note>\n",
      "<to>Tove</to>\n",
      "<from>Jani</from>\n",
      "<heading>Reminder</heading>\n",
      "<body>Don't forget me this weekend!</body>\n",
      "</note>\n"
     ]
    }
   ],
   "source": [
    "#parse the data\n",
    "\n",
    "soup = BeautifulSoup(xml.content,'xml')\n",
    "print(soup)"
   ]
  },
  {
   "cell_type": "code",
   "execution_count": 9,
   "id": "40fcdc2d",
   "metadata": {},
   "outputs": [
    {
     "data": {
      "text/plain": [
       "<heading>Reminder</heading>"
      ]
     },
     "execution_count": 9,
     "metadata": {},
     "output_type": "execute_result"
    }
   ],
   "source": [
    "xml_tag = soup.find('heading')\n",
    "xml_tag"
   ]
  },
  {
   "cell_type": "code",
   "execution_count": 11,
   "id": "60ca2a84",
   "metadata": {},
   "outputs": [
    {
     "data": {
      "text/plain": [
       "<note>\n",
       "<to>Tove</to>\n",
       "<from>Jani</from>\n",
       "<heading>Reminder</heading>\n",
       "<body>Don't forget me this weekend!</body>\n",
       "</note>"
      ]
     },
     "execution_count": 11,
     "metadata": {},
     "output_type": "execute_result"
    }
   ],
   "source": [
    "xml_note_tag = soup.find('note')\n",
    "xml_note_tag"
   ]
  },
  {
   "cell_type": "code",
   "execution_count": 14,
   "id": "28b56422",
   "metadata": {},
   "outputs": [
    {
     "name": "stdout",
     "output_type": "stream",
     "text": [
      "\n",
      "Tove\n",
      "Jani\n",
      "Reminder\n",
      "Don't forget me this weekend!\n",
      "\n"
     ]
    }
   ],
   "source": [
    "print(xml_note_tag.text)"
   ]
  },
  {
   "cell_type": "code",
   "execution_count": 15,
   "id": "3d74488f",
   "metadata": {},
   "outputs": [
    {
     "data": {
      "text/plain": [
       "<body>Don't forget me this weekend!</body>"
      ]
     },
     "execution_count": 15,
     "metadata": {},
     "output_type": "execute_result"
    }
   ],
   "source": [
    "xml_body_tag = soup.find('body')\n",
    "xml_body_tag"
   ]
  },
  {
   "cell_type": "code",
   "execution_count": 16,
   "id": "5b28d46b",
   "metadata": {},
   "outputs": [
    {
     "name": "stdout",
     "output_type": "stream",
     "text": [
      "Don't forget me this weekend!\n"
     ]
    }
   ],
   "source": [
    "print(xml_body_tag.text)"
   ]
  },
  {
   "cell_type": "code",
   "execution_count": 17,
   "id": "80efa908",
   "metadata": {},
   "outputs": [
    {
     "data": {
      "text/plain": [
       "<from>Jani</from>"
      ]
     },
     "execution_count": 17,
     "metadata": {},
     "output_type": "execute_result"
    }
   ],
   "source": [
    "xml_from_tag = soup.find('from')\n",
    "xml_from_tag "
   ]
  },
  {
   "cell_type": "code",
   "execution_count": 18,
   "id": "1f12fe1c",
   "metadata": {},
   "outputs": [
    {
     "name": "stdout",
     "output_type": "stream",
     "text": [
      "Jani\n"
     ]
    }
   ],
   "source": [
    "print(xml_from_tag.text)"
   ]
  },
  {
   "cell_type": "code",
   "execution_count": null,
   "id": "ca2d308c",
   "metadata": {},
   "outputs": [],
   "source": []
  }
 ],
 "metadata": {
  "kernelspec": {
   "display_name": "Python 3 (ipykernel)",
   "language": "python",
   "name": "python3"
  },
  "language_info": {
   "codemirror_mode": {
    "name": "ipython",
    "version": 3
   },
   "file_extension": ".py",
   "mimetype": "text/x-python",
   "name": "python",
   "nbconvert_exporter": "python",
   "pygments_lexer": "ipython3",
   "version": "3.9.12"
  }
 },
 "nbformat": 4,
 "nbformat_minor": 5
}
